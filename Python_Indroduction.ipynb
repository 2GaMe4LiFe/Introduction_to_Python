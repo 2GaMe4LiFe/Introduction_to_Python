{
 "cells": [
  {
   "cell_type": "markdown",
   "metadata": {},
   "source": [
    "# Introduction to Python"
   ]
  },
  {
   "cell_type": "markdown",
   "metadata": {},
   "source": [
    "## Disclaimer:\n",
    "Programming in Python is not always easy. To improve your knowledge a little bit here are the basic concepts of the Python language described. Take everything I write with a grain of salt\n",
    "since Python is the language I´m at least familiar with."
   ]
  },
  {
   "cell_type": "markdown",
   "metadata": {},
   "source": [
    "## Basic Commands/Functions\n",
    "In Python there are several basic functions which can be used to write a program. In this chapter we will have a look at the most important ones. What they do and how you use them."
   ]
  },
  {
   "cell_type": "markdown",
   "metadata": {},
   "source": [
    "### Print\n",
    "The most basic function is the print function. With it we can produce an output on our terminal."
   ]
  },
  {
   "cell_type": "code",
   "execution_count": 1,
   "metadata": {},
   "outputs": [
    {
     "name": "stdout",
     "output_type": "stream",
     "text": [
      "Hello World\n"
     ]
    }
   ],
   "source": [
    "print('Hello World')"
   ]
  },
  {
   "cell_type": "markdown",
   "metadata": {},
   "source": [
    "The print function takes a string as input and prints it to the terminal."
   ]
  },
  {
   "cell_type": "markdown",
   "metadata": {},
   "source": [
    "## Variables\n",
    "The most important thing to know about variables is, that they can contain anything. If you want to reuse the same value over and over again store it in a variable.\n",
    "\n",
    "A variable consists of two parts. The first is the variable name. A variable can be called however you want. But to get a nice feeling for your code name it after what it should contain.\n",
    "Names like var1, var2 and var3 are possible, but for obvious reasons it´s not suggested. The second part is the value which should be stored inside of the variable.\n",
    "Variables can be called just by writing down the variable name."
   ]
  },
  {
   "cell_type": "code",
   "execution_count": 6,
   "metadata": {},
   "outputs": [
    {
     "name": "stdout",
     "output_type": "stream",
     "text": [
      "Hello World\n"
     ]
    }
   ],
   "source": [
    "# a variable named var1\n",
    "var1 = 'Hello World'\n",
    "print(var1)"
   ]
  },
  {
   "cell_type": "markdown",
   "metadata": {},
   "source": [
    "Variables can be 'overwritten'. Just write down the name of the variable and assign a new value to it. "
   ]
  },
  {
   "cell_type": "markdown",
   "metadata": {},
   "source": [
    "### Strings\n",
    "A string is indicated by the symbols ' or \". Anything inside them is part of the string. Strings can be concatenated. Below are some examples on how a string can look like."
   ]
  },
  {
   "cell_type": "code",
   "execution_count": 5,
   "metadata": {},
   "outputs": [
    {
     "data": {
      "text/plain": [
       "'Hello World'"
      ]
     },
     "execution_count": 5,
     "metadata": {},
     "output_type": "execute_result"
    }
   ],
   "source": [
    "# basic form of a string, both versions achieve the same result (I prefer the first one)\n",
    "'Hello World'\n",
    "\"Hello World\"\n",
    "\n",
    "# with the + operator we can combine two strings\n",
    "# important to know, the plus operator sews the strings together without adding a whitespace between both\n",
    "'Hello ' + 'World'"
   ]
  },
  {
   "cell_type": "markdown",
   "metadata": {},
   "source": [
    "#### Formatted Strings\n",
    "Besides the normal string there exists the possibility to use formatted string. Those strings have the property to be edited fairly easy. A formatted string is indicated by a f before '.\n",
    "Inside this string curly brackets {} can be used to insert something from a variable or a function into the string without much trouble. Inside those brackets even calculations can be done."
   ]
  },
  {
   "cell_type": "code",
   "execution_count": 2,
   "metadata": {},
   "outputs": [
    {
     "name": "stdout",
     "output_type": "stream",
     "text": [
      "This is a list: [1, 2, 3, 4]\n",
      "The list contains 4 elements\n",
      "23 * 54 = 1242\n"
     ]
    }
   ],
   "source": [
    "var1 = [1, 2, 3, 4]\n",
    "\n",
    "# prints the raw content of the variable var1\n",
    "print(f'This is a list: { var1 }')\n",
    "# prints the output of the function len\n",
    "print(f'The list contains { len(var1) } elements')\n",
    "# prints the result of a calculation\n",
    "print(f'23 * 54 = { 23 * 54 }')"
   ]
  }
 ],
 "metadata": {
  "interpreter": {
   "hash": "e18b2afdd4a5e57fa994efcb76a30c918541a96ebddd6b4c302f55fb59d0212b"
  },
  "kernelspec": {
   "display_name": "Python 3.9.4 64-bit",
   "language": "python",
   "name": "python3"
  },
  "language_info": {
   "codemirror_mode": {
    "name": "ipython",
    "version": 3
   },
   "file_extension": ".py",
   "mimetype": "text/x-python",
   "name": "python",
   "nbconvert_exporter": "python",
   "pygments_lexer": "ipython3",
   "version": "3.9.4"
  },
  "orig_nbformat": 4
 },
 "nbformat": 4,
 "nbformat_minor": 2
}
