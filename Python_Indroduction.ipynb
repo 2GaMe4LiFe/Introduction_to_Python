{
 "cells": [
  {
   "cell_type": "markdown",
   "metadata": {},
   "source": [
    "# Introduction to Python"
   ]
  },
  {
   "cell_type": "markdown",
   "metadata": {},
   "source": [
    "## Disclaimer:\n",
    "Programming in Python is not always easy. To improve your knowledge a little bit here are the basic concepts of the Python language described. Take everything I write with a grain of salt\n",
    "since Python is the language I´m at least familiar with."
   ]
  },
  {
   "cell_type": "markdown",
   "metadata": {},
   "source": [
    "## Basic Commands/Functions\n",
    "In Python there are several basic functions which can be used to write a program. In this chapter we will have a look at the most important ones. What they do and how you use them."
   ]
  },
  {
   "cell_type": "markdown",
   "metadata": {},
   "source": [
    "### Print\n",
    "The most basic function is the print function. With it we can produce an output on our terminal."
   ]
  },
  {
   "cell_type": "code",
   "execution_count": 1,
   "metadata": {},
   "outputs": [
    {
     "name": "stdout",
     "output_type": "stream",
     "text": [
      "Hello World\n"
     ]
    }
   ],
   "source": [
    "print('Hello World')"
   ]
  },
  {
   "cell_type": "markdown",
   "metadata": {},
   "source": [
    "The print function takes a string as input and prints it to the terminal."
   ]
  },
  {
   "cell_type": "markdown",
   "metadata": {},
   "source": [
    "## Variables\n",
    "The most important thing to know about variables is, that they can contain anything. If you want to reuse the same value over and over again store it in a variable.\n",
    "\n",
    "A variable consists of two parts. The first is the variable name. A variable can be called however you want. But to get a nice feeling for your code name it after what it should contain.\n",
    "Names like var1, var2 and var3 are possible, but for obvious reasons it´s not suggested. The second part is the value which should be stored inside of the variable.\n",
    "Variables can be called just by writing down the variable name."
   ]
  },
  {
   "cell_type": "code",
   "execution_count": 2,
   "metadata": {},
   "outputs": [
    {
     "name": "stdout",
     "output_type": "stream",
     "text": [
      "Hello World\n"
     ]
    }
   ],
   "source": [
    "# a variable named var1\n",
    "var1 = 'Hello World'\n",
    "print(var1)"
   ]
  },
  {
   "cell_type": "markdown",
   "metadata": {},
   "source": [
    "Variables can be 'overwritten'. Just write down the name of the variable and assign a new value to it. "
   ]
  },
  {
   "cell_type": "markdown",
   "metadata": {},
   "source": [
    "## Strings\n",
    "A string is indicated by the symbols ' or \". Anything inside them is part of the string. Strings can be concatenated. Below are some examples on how a string can look like."
   ]
  },
  {
   "cell_type": "code",
   "execution_count": 3,
   "metadata": {},
   "outputs": [
    {
     "data": {
      "text/plain": [
       "'Hello World'"
      ]
     },
     "execution_count": 3,
     "metadata": {},
     "output_type": "execute_result"
    }
   ],
   "source": [
    "# basic form of a string, both versions achieve the same result (I prefer the first one)\n",
    "'Hello World'\n",
    "\"Hello World\"\n",
    "\n",
    "# with the + operator we can combine two strings\n",
    "# important to know, the plus operator sews the strings together without adding a whitespace between both\n",
    "'Hello ' + 'World'"
   ]
  },
  {
   "cell_type": "markdown",
   "metadata": {},
   "source": [
    "### Formatted Strings\n",
    "Besides the normal string there exists the possibility to use formatted string. Those strings have the property to be edited fairly easy. A formatted string is indicated by a f before '.<br/>\n",
    "Inside this string curly brackets {} can be used to insert something from a variable or a function into the string without much trouble. Inside those brackets even calculations can be done."
   ]
  },
  {
   "cell_type": "code",
   "execution_count": 4,
   "metadata": {},
   "outputs": [
    {
     "name": "stdout",
     "output_type": "stream",
     "text": [
      "This is a list: [1, 2, 3, 4]\n",
      "The list contains 4 elements\n",
      "23 * 54 = 1242\n"
     ]
    }
   ],
   "source": [
    "var1 = [1, 2, 3, 4]\n",
    "\n",
    "# prints the raw content of the variable var1\n",
    "print(f'This is a list: { var1 }')\n",
    "# prints the output of the function len\n",
    "print(f'The list contains { len(var1) } elements')\n",
    "# prints the result of a calculation\n",
    "print(f'23 * 54 = { 23 * 54 }')"
   ]
  },
  {
   "cell_type": "markdown",
   "metadata": {},
   "source": [
    "## Loops\n",
    "In general we differentiate between two types of loops. Both of them are initiated with the corresponding keyword and a condition."
   ]
  },
  {
   "cell_type": "markdown",
   "metadata": {},
   "source": [
    "### For-loops\n",
    "The first one is the so called <span style=\"color:orange\">for</span>-loop. It iterates over a given set and needs the keywords <span style=\"color:orange\">for</span> and <span style=\"color:orange\">in</span>. The condition end with <span style=\"color:orange\">:</span>. In the next line we need an indentation to tell Python that the following code belongs to the for loop. Everything on the same indentation-level or higher is part of the loop and gets executed as often as necessary. Therefore this kind of loop gets used if you want to repeat a part of your code n-times. To indicate the end of\n",
    "the end of a for-loop just change your indentation to the same height as the for command.\n",
    "\n",
    "The basic form of a for-loop is always the same. First there is the <span style=\"color:orange\">for</span>-keyword. Then follows a variable you can name however you want. After the variable the keyword <span style=\"color:orange\">in</span> follows. The last part has to be an iterable datastructure like a list or the <span style=\"color:orange\">range()</span> command."
   ]
  },
  {
   "cell_type": "code",
   "execution_count": 5,
   "metadata": {},
   "outputs": [
    {
     "name": "stdout",
     "output_type": "stream",
     "text": [
      "0\n",
      "1\n",
      "2\n",
      "3\n",
      "4\n",
      "5\n",
      "6\n",
      "7\n",
      "8\n",
      "9\n",
      "10\n",
      "\n",
      "0\n",
      "1\n",
      "2\n",
      "3\n",
      "4\n",
      "\n",
      "outer loop: 0, inner loop: 0\n",
      "outer loop: 0, inner loop: 1\n",
      "outer loop: 1, inner loop: 0\n",
      "outer loop: 1, inner loop: 1\n",
      "outer loop: 2, inner loop: 0\n",
      "outer loop: 2, inner loop: 1\n",
      "outer loop: 3, inner loop: 0\n",
      "outer loop: 3, inner loop: 1\n",
      "outer loop: 4, inner loop: 0\n",
      "outer loop: 4, inner loop: 1\n",
      "\n",
      "10\n",
      "21\n",
      "122\n",
      "213\n"
     ]
    }
   ],
   "source": [
    "# a loop which counts from 0 to 10\n",
    "# indentation level 0\n",
    "for index in range(0, 11):\n",
    "    # indentation level 1: therefore the following code gets executed as often\n",
    "    # as specified in the for loop´s condition.\n",
    "    print(index)\n",
    "# indentation level 0: this is the end of the for loop\n",
    "# code on this level will not be affected by the loop\n",
    "\n",
    "print()\n",
    "\n",
    "# after one loop there can be another loop\n",
    "for index in range(0, 5):\n",
    "    print(index)\n",
    "\n",
    "print()\n",
    "\n",
    "# loops can also be nested as often as you want. in this example 2x\n",
    "for i in range(0,5):\n",
    "    for j in range(0,2):\n",
    "        print(f'outer loop: {i}, inner loop: {j}')\n",
    "\n",
    "print()\n",
    "\n",
    "# not just range can be used to run a for loop\n",
    "list_of_numbers = [10, 21, 122, 213]\n",
    "for element in list_of_numbers:\n",
    "    print(element)\n",
    "# the for above iterates through the list and saves each number at a time in the variable\n",
    "# element until the for loop reaches the end of the loop"
   ]
  }
 ],
 "metadata": {
  "interpreter": {
   "hash": "e18b2afdd4a5e57fa994efcb76a30c918541a96ebddd6b4c302f55fb59d0212b"
  },
  "kernelspec": {
   "display_name": "Python 3.9.4 64-bit",
   "language": "python",
   "name": "python3"
  },
  "language_info": {
   "codemirror_mode": {
    "name": "ipython",
    "version": 3
   },
   "file_extension": ".py",
   "mimetype": "text/x-python",
   "name": "python",
   "nbconvert_exporter": "python",
   "pygments_lexer": "ipython3",
   "version": "3.9.4"
  },
  "orig_nbformat": 4
 },
 "nbformat": 4,
 "nbformat_minor": 2
}
