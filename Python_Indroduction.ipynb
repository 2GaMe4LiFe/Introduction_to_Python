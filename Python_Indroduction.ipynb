{
 "cells": [
  {
   "cell_type": "markdown",
   "metadata": {},
   "source": [
    "# Introduction to Python"
   ]
  },
  {
   "cell_type": "markdown",
   "metadata": {},
   "source": [
    "## Disclaimer:\n",
    "Programming in Python is not always easy. To improve your knowledge a little bit here are the basic concepts of the Python language described. Take everything I write with a grain of salt\n",
    "since Python is the language I´m least familiar with."
   ]
  },
  {
   "cell_type": "markdown",
   "metadata": {},
   "source": [
    "## Basic Commands/Functions\n",
    "In Python there are several basic functions which can be used to write a program. In this chapter we will have a look at the most important ones. What they do and how you use them."
   ]
  },
  {
   "cell_type": "markdown",
   "metadata": {},
   "source": [
    "### Print\n",
    "The most basic function is the print function. With it we can produce an output on our terminal."
   ]
  },
  {
   "cell_type": "code",
   "execution_count": 1,
   "metadata": {},
   "outputs": [
    {
     "name": "stdout",
     "output_type": "stream",
     "text": [
      "Hello World\n"
     ]
    }
   ],
   "source": [
    "print('Hello World')"
   ]
  },
  {
   "cell_type": "markdown",
   "metadata": {},
   "source": [
    "The print function takes a string as input and prints it to the terminal."
   ]
  },
  {
   "cell_type": "markdown",
   "metadata": {},
   "source": [
    "## Variables\n",
    "The most important thing to know about variables is, that they can contain anything. If you want to reuse the same value over and over again store it in a variable.\n",
    "\n",
    "A variable consists of two parts. The first is the variable name. A variable can be called however you want. But to get a nice feeling for your code name it after what it should contain.\n",
    "Names like var1, var2 and var3 are possible, but for obvious reasons it´s not suggested. The second part is the value which should be stored inside of the variable.\n",
    "Variables can be called just by writing down the variable name."
   ]
  },
  {
   "cell_type": "code",
   "execution_count": 2,
   "metadata": {},
   "outputs": [
    {
     "name": "stdout",
     "output_type": "stream",
     "text": [
      "Hello World\n"
     ]
    }
   ],
   "source": [
    "# a variable named var1\n",
    "var1 = 'Hello World'\n",
    "print(var1)"
   ]
  },
  {
   "cell_type": "markdown",
   "metadata": {},
   "source": [
    "Variables can be 'overwritten'. Just write down the name of the variable and assign a new value to it. "
   ]
  },
  {
   "cell_type": "markdown",
   "metadata": {},
   "source": [
    "## Strings\n",
    "A string is indicated by the symbols ' or \". Anything inside them is part of the string. Strings can be concatenated. Below are some examples on how a string can look like."
   ]
  },
  {
   "cell_type": "code",
   "execution_count": 3,
   "metadata": {},
   "outputs": [
    {
     "data": {
      "text/plain": [
       "'Hello World'"
      ]
     },
     "execution_count": 3,
     "metadata": {},
     "output_type": "execute_result"
    }
   ],
   "source": [
    "# basic form of a string, both versions achieve the same result (I prefer the first one)\n",
    "'Hello World'\n",
    "\"Hello World\"\n",
    "\n",
    "# with the + operator we can combine two strings\n",
    "# important to know, the plus operator sews the strings together without adding a whitespace between both\n",
    "'Hello ' + 'World'"
   ]
  },
  {
   "cell_type": "markdown",
   "metadata": {},
   "source": [
    "### Formatted Strings\n",
    "Besides the normal string there exists the possibility to use formatted string. Those strings have the property to be edited fairly easy. A formatted string is indicated by a f before '.<br/>\n",
    "Inside this string curly brackets {} can be used to insert something from a variable or a function into the string without much trouble. Inside those brackets even calculations can be done."
   ]
  },
  {
   "cell_type": "code",
   "execution_count": 4,
   "metadata": {},
   "outputs": [
    {
     "name": "stdout",
     "output_type": "stream",
     "text": [
      "This is a list: [1, 2, 3, 4]\n",
      "The list contains 4 elements\n",
      "23 * 54 = 1242\n"
     ]
    }
   ],
   "source": [
    "var1 = [1, 2, 3, 4]\n",
    "\n",
    "# prints the raw content of the variable var1\n",
    "print(f'This is a list: { var1 }')\n",
    "# prints the output of the function len\n",
    "print(f'The list contains { len(var1) } elements')\n",
    "# prints the result of a calculation\n",
    "print(f'23 * 54 = { 23 * 54 }')"
   ]
  },
  {
   "cell_type": "markdown",
   "metadata": {},
   "source": [
    "## Loops\n",
    "In general we differentiate between two types of loops. Both of them are initiated with the corresponding keyword and a condition."
   ]
  },
  {
   "cell_type": "markdown",
   "metadata": {},
   "source": [
    "### For-loops\n",
    "The first one is the so called <span style=\"color:orange\">for</span>-loop. It iterates over a given set and needs the keywords <span style=\"color:orange\">for</span> and <span style=\"color:orange\">in</span>. The condition end with <span style=\"color:orange\">:</span>. In the next line we need an indentation to tell Python that the following code belongs to the for loop. Everything on the same indentation-level or higher is part of the loop and gets executed as often as necessary. Therefore this kind of loop gets used if you want to repeat a part of your code n-times. To indicate the end of\n",
    "the end of a for-loop just change your indentation to the same height as the for command.\n",
    "\n",
    "The basic form of a for-loop is always the same. First there is the <span style=\"color:orange\">for</span>-keyword. Then follows a variable you can name however you want. After the variable the keyword <span style=\"color:orange\">in</span> follows. The last part has to be an iterable datastructure like a list or the <span style=\"color:orange\">range()</span> command."
   ]
  },
  {
   "cell_type": "code",
   "execution_count": 5,
   "metadata": {},
   "outputs": [
    {
     "name": "stdout",
     "output_type": "stream",
     "text": [
      "0\n",
      "1\n",
      "2\n",
      "3\n",
      "4\n",
      "5\n",
      "6\n",
      "7\n",
      "8\n",
      "9\n",
      "10\n",
      "\n",
      "0\n",
      "1\n",
      "2\n",
      "3\n",
      "4\n",
      "\n",
      "outer loop: 0, inner loop: 0\n",
      "outer loop: 0, inner loop: 1\n",
      "outer loop: 1, inner loop: 0\n",
      "outer loop: 1, inner loop: 1\n",
      "outer loop: 2, inner loop: 0\n",
      "outer loop: 2, inner loop: 1\n",
      "outer loop: 3, inner loop: 0\n",
      "outer loop: 3, inner loop: 1\n",
      "outer loop: 4, inner loop: 0\n",
      "outer loop: 4, inner loop: 1\n",
      "\n",
      "10\n",
      "21\n",
      "122\n",
      "213\n"
     ]
    }
   ],
   "source": [
    "# a loop which counts from 0 to 10\n",
    "# indentation level 0\n",
    "for index in range(0, 11):\n",
    "    # indentation level 1: therefore the following code gets executed as often\n",
    "    # as specified in the for loop´s condition.\n",
    "    print(index)\n",
    "# indentation level 0: this is the end of the for loop\n",
    "# code on this level will not be affected by the loop\n",
    "\n",
    "print()\n",
    "\n",
    "# after one loop there can be another loop\n",
    "for index in range(0, 5):\n",
    "    print(index)\n",
    "\n",
    "print()\n",
    "\n",
    "# loops can also be nested as often as you want. in this example 2x\n",
    "for i in range(0,5):\n",
    "    for j in range(0,2):\n",
    "        print(f'outer loop: {i}, inner loop: {j}')\n",
    "\n",
    "print()\n",
    "\n",
    "# not just range can be used to run a for loop\n",
    "list_of_numbers = [10, 21, 122, 213]\n",
    "for element in list_of_numbers:\n",
    "    print(element)\n",
    "# the for above iterates through the list and saves each number at a time in the variable\n",
    "# element until the for loop reaches the end of the loop"
   ]
  },
  {
   "cell_type": "markdown",
   "metadata": {},
   "source": [
    "### while-loops\n",
    "The second type of loop is the <span style=\"color:orange\">while</span>-loop. The difference is, that the condition now is a so called <span style=\"color:orange\">boolean value</span>. This type of value\n",
    "can eighter be <span style=\"color:orange\">True</span> or <span style=\"color:orange\">False</span>. As long as the condition is True, the while-loop will run.\n",
    "\n",
    "There are different ways to stop a while-loop."
   ]
  },
  {
   "cell_type": "code",
   "execution_count": 6,
   "metadata": {},
   "outputs": [
    {
     "name": "stdout",
     "output_type": "stream",
     "text": [
      "0: Hello World\n",
      "1: Hello World\n",
      "2: Hello World\n",
      "3: Hello World\n",
      "4: Hello World\n",
      "\n",
      "0: Hello World\n",
      "1: Hello World\n",
      "2: Hello World\n",
      "3: Hello World\n",
      "4: Hello World\n",
      "\n"
     ]
    }
   ],
   "source": [
    "# variable which contains a boolean value\n",
    "var1 = True\n",
    "\n",
    "# the code below would run forever since we never set the variable var1 to False\n",
    "\"\"\"\n",
    "while var1:\n",
    "    print('Hello World')\n",
    "\"\"\"\n",
    "\n",
    "# the code below prints Hello World 5x\n",
    "var1 = True\n",
    "# counter is needed to have a condition to set var1 to false\n",
    "counter = 0\n",
    "while var1:\n",
    "    print(f'{counter}: Hello World')\n",
    "    if counter == 4:\n",
    "        var1 = False\n",
    "    counter += 1\n",
    "\n",
    "print()\n",
    "\n",
    "# same example as above just without the extra variable var1\n",
    "counter = 0\n",
    "\n",
    "while counter < 5:\n",
    "    print(f'{counter}: Hello World')\n",
    "    counter += 1 # if this line is missing we would end up with an infinite loop\n",
    "\n",
    "print()\n",
    "\n",
    "# if the condition is False at the first encounter of the loop, it will be skipped\n",
    "var1 = False\n",
    "while var1:\n",
    "    print('This will not be printed')"
   ]
  },
  {
   "cell_type": "markdown",
   "metadata": {},
   "source": [
    "### Special statements for loops (Loop control statements)\n",
    "In most programming languages there exist loop control statements to tamper with the behaviour of loops. These are called <span style=\"color:orange\">continue</span>, <span style=\"color:orange\">break</span> and in python <span style=\"color:orange\">pass</span>. Important to remember is, that each control statement is just able to tamper with the loop directly above it. In a nested loop, if the control statement is in the second loop, it changes the behaviour of the second loop but not of the first one. (Example with break follows)"
   ]
  },
  {
   "cell_type": "markdown",
   "metadata": {},
   "source": [
    "#### continue\n",
    "continue can be used in every type of loop. If hit, the program skips everything after the continue and goes to the next iterable element in a loop and starts from the top again. Special attention must be paid for while-loops, since you have to change your conditional variable yourself."
   ]
  },
  {
   "cell_type": "code",
   "execution_count": 7,
   "metadata": {},
   "outputs": [
    {
     "name": "stdout",
     "output_type": "stream",
     "text": [
      "H\n",
      "e\n",
      "o\n",
      " \n",
      "W\n",
      "o\n",
      "r\n",
      "d\n"
     ]
    }
   ],
   "source": [
    "# loop iterates through 'Hello World' and ignores 'l'\n",
    "for letter in 'Hello World':\n",
    "    if (letter == 'l'):\n",
    "        continue # program jumps back to the top of the for-loop and goes to the next iterable\n",
    "    print(letter)"
   ]
  },
  {
   "cell_type": "code",
   "execution_count": 8,
   "metadata": {},
   "outputs": [
    {
     "name": "stdout",
     "output_type": "stream",
     "text": [
      "1\n",
      "3\n",
      "5\n",
      "7\n",
      "9\n",
      "11\n"
     ]
    }
   ],
   "source": [
    "# loop prints every odd number\n",
    "counter = 0\n",
    "while counter < 11:\n",
    "    # if the counter would not be increased before the if statement, we would hit an infinite loop, since counter will never be increased\n",
    "    counter += 1\n",
    "    if counter % 2 == 0:\n",
    "        continue\n",
    "    print(counter)"
   ]
  },
  {
   "cell_type": "markdown",
   "metadata": {},
   "source": [
    "#### break\n",
    "The break statement is the easiest to understand. It simply aborts a running loop if hit."
   ]
  },
  {
   "cell_type": "code",
   "execution_count": 9,
   "metadata": {},
   "outputs": [
    {
     "name": "stdout",
     "output_type": "stream",
     "text": [
      "0\n",
      "1\n",
      "2\n",
      "3\n",
      "4\n"
     ]
    }
   ],
   "source": [
    "# with break we can end an infinite loop\n",
    "# this loop will be aborted/stopped if the counter hits 5\n",
    "# output are the numbers from 0 to 4\n",
    "counter = 0\n",
    "while True:\n",
    "    if counter == 5:\n",
    "        break\n",
    "    print(counter)\n",
    "    counter += 1"
   ]
  },
  {
   "cell_type": "code",
   "execution_count": 10,
   "metadata": {},
   "outputs": [
    {
     "name": "stdout",
     "output_type": "stream",
     "text": [
      "outer loop: 0\n",
      "inner loop: 0\n",
      "inner loop: 1\n",
      "\n",
      "outer loop: 1\n",
      "inner loop: 0\n",
      "inner loop: 1\n",
      "\n",
      "outer loop: 2\n",
      "inner loop: 0\n",
      "inner loop: 1\n",
      "\n"
     ]
    }
   ],
   "source": [
    "# demonstration on nested loops\n",
    "counter1 = 0\n",
    "while True:\n",
    "    counter2 = 0\n",
    "    if counter1 == 3:\n",
    "        break\n",
    "\n",
    "    print(f'outer loop: {counter1}')\n",
    "    \n",
    "    while True:\n",
    "        if counter2 == 2:\n",
    "            break\n",
    "        print(f'inner loop: {counter2}')\n",
    "        counter2 += 1\n",
    "    print()\n",
    "    counter1 += 1"
   ]
  },
  {
   "cell_type": "markdown",
   "metadata": {},
   "source": [
    "#### pass\n",
    "The pass statement is also a fairly simple one. With it we can 'skip' a loop, function or even class entirely if not implemented. An exception is the while-loop. It cant be skipped with pass.\n",
    "(functions and classes follow in the next sections)"
   ]
  },
  {
   "cell_type": "code",
   "execution_count": 11,
   "metadata": {},
   "outputs": [],
   "source": [
    "# without the pass everything below would result in an error\n",
    "class Person:\n",
    "    pass\n",
    "\n",
    "def get_money():\n",
    "    pass\n",
    "\n",
    "for index in range(0, 5):\n",
    "    pass"
   ]
  }
 ],
 "metadata": {
  "interpreter": {
   "hash": "e18b2afdd4a5e57fa994efcb76a30c918541a96ebddd6b4c302f55fb59d0212b"
  },
  "kernelspec": {
   "display_name": "Python 3.9.4 64-bit",
   "language": "python",
   "name": "python3"
  },
  "language_info": {
   "codemirror_mode": {
    "name": "ipython",
    "version": 3
   },
   "file_extension": ".py",
   "mimetype": "text/x-python",
   "name": "python",
   "nbconvert_exporter": "python",
   "pygments_lexer": "ipython3",
   "version": "3.9.4"
  },
  "orig_nbformat": 4
 },
 "nbformat": 4,
 "nbformat_minor": 2
}
