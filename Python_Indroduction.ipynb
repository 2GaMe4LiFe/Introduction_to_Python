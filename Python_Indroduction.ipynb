{
 "cells": [
  {
   "cell_type": "markdown",
   "metadata": {},
   "source": [
    "# Introduction to Python"
   ]
  },
  {
   "cell_type": "markdown",
   "metadata": {},
   "source": [
    "## Disclaimer:\n",
    "Programming in Python is not always easy. To improve your knowledge a little bit here are the basic concepts of the Python language described. Take everything I write with a grain of salt\n",
    "since Python is the language I´m least familiar with."
   ]
  },
  {
   "cell_type": "markdown",
   "metadata": {},
   "source": [
    "## Basic Commands/Functions\n",
    "In Python there are several basic functions which can be used to write a program. In this chapter we will have a look at the most important ones. What they do and how you use them."
   ]
  },
  {
   "cell_type": "markdown",
   "metadata": {},
   "source": [
    "### Print\n",
    "The most basic function is the print function. With it we can produce an output on our terminal."
   ]
  },
  {
   "cell_type": "code",
   "execution_count": 1,
   "metadata": {},
   "outputs": [
    {
     "name": "stdout",
     "output_type": "stream",
     "text": [
      "Hello World\n"
     ]
    }
   ],
   "source": [
    "print('Hello World')"
   ]
  },
  {
   "cell_type": "markdown",
   "metadata": {},
   "source": [
    "The print function takes a string as input and prints it to the terminal."
   ]
  },
  {
   "cell_type": "markdown",
   "metadata": {},
   "source": [
    "## Variables\n",
    "The most important thing to know about variables is, that they can contain anything. If you want to reuse the same value over and over again store it in a variable.\n",
    "\n",
    "A variable consists of two parts. The first is the variable name. A variable can be called however you want. But to get a nice feeling for your code name it after what it should contain.\n",
    "Names like var1, var2 and var3 are possible, but for obvious reasons it´s not suggested. The second part is the value which should be stored inside of the variable.\n",
    "Variables can be called just by writing down the variable name."
   ]
  },
  {
   "cell_type": "code",
   "execution_count": 2,
   "metadata": {},
   "outputs": [
    {
     "name": "stdout",
     "output_type": "stream",
     "text": [
      "Hello World\n"
     ]
    }
   ],
   "source": [
    "# a variable named var1\n",
    "var1 = 'Hello World'\n",
    "print(var1)"
   ]
  },
  {
   "cell_type": "markdown",
   "metadata": {},
   "source": [
    "Variables can be 'overwritten'. Just write down the name of the variable and assign a new value to it. "
   ]
  },
  {
   "cell_type": "markdown",
   "metadata": {},
   "source": [
    "## Strings\n",
    "A string is indicated by the symbols ' or \". Anything inside them is part of the string. Strings can be concatenated. Below are some examples on how a string can look like."
   ]
  },
  {
   "cell_type": "code",
   "execution_count": 3,
   "metadata": {},
   "outputs": [
    {
     "data": {
      "text/plain": [
       "'Hello World'"
      ]
     },
     "execution_count": 3,
     "metadata": {},
     "output_type": "execute_result"
    }
   ],
   "source": [
    "# basic form of a string, both versions achieve the same result (I prefer the first one)\n",
    "'Hello World'\n",
    "\"Hello World\"\n",
    "\n",
    "# with the + operator we can combine two strings\n",
    "# important to know, the plus operator sews the strings together without adding a whitespace between both\n",
    "'Hello ' + 'World'"
   ]
  },
  {
   "cell_type": "markdown",
   "metadata": {},
   "source": [
    "### Formatted Strings\n",
    "Besides the normal string there exists the possibility to use formatted string. Those strings have the property to be edited fairly easy. A formatted string is indicated by a f before '.<br/>\n",
    "Inside this string curly brackets {} can be used to insert something from a variable or a function into the string without much trouble. Inside those brackets even calculations can be done."
   ]
  },
  {
   "cell_type": "code",
   "execution_count": 4,
   "metadata": {},
   "outputs": [
    {
     "name": "stdout",
     "output_type": "stream",
     "text": [
      "This is a list: [1, 2, 3, 4]\n",
      "The list contains 4 elements\n",
      "23 * 54 = 1242\n"
     ]
    }
   ],
   "source": [
    "var1 = [1, 2, 3, 4]\n",
    "\n",
    "# prints the raw content of the variable var1\n",
    "print(f'This is a list: { var1 }')\n",
    "# prints the output of the function len\n",
    "print(f'The list contains { len(var1) } elements')\n",
    "# prints the result of a calculation\n",
    "print(f'23 * 54 = { 23 * 54 }')"
   ]
  },
  {
   "cell_type": "markdown",
   "metadata": {},
   "source": [
    "## Loops\n",
    "In general we differentiate between two types of loops. Both of them are initiated with the corresponding keyword and a condition."
   ]
  },
  {
   "cell_type": "markdown",
   "metadata": {},
   "source": [
    "### For-loops\n",
    "The first one is the so called <span style=\"color:orange\">for</span>-loop. It iterates over a given set and needs the keywords <span style=\"color:orange\">for</span> and <span style=\"color:orange\">in</span>. The condition end with <span style=\"color:orange\">:</span>. In the next line we need an indentation to tell Python that the following code belongs to the for loop. Everything on the same indentation-level or higher is part of the loop and gets executed as often as necessary. Therefore this kind of loop gets used if you want to repeat a part of your code n-times. To indicate the end of\n",
    "the end of a for-loop just change your indentation to the same height as the for command.\n",
    "\n",
    "The basic form of a for-loop is always the same. First there is the <span style=\"color:orange\">for</span>-keyword. Then follows a variable you can name however you want. After the variable the keyword <span style=\"color:orange\">in</span> follows. The last part has to be an iterable datastructure like a list or the <span style=\"color:orange\">range()</span> command."
   ]
  },
  {
   "cell_type": "code",
   "execution_count": 5,
   "metadata": {},
   "outputs": [
    {
     "name": "stdout",
     "output_type": "stream",
     "text": [
      "0\n",
      "1\n",
      "2\n",
      "3\n",
      "4\n",
      "5\n",
      "6\n",
      "7\n",
      "8\n",
      "9\n",
      "10\n",
      "\n",
      "0\n",
      "1\n",
      "2\n",
      "3\n",
      "4\n",
      "\n",
      "outer loop: 0, inner loop: 0\n",
      "outer loop: 0, inner loop: 1\n",
      "outer loop: 1, inner loop: 0\n",
      "outer loop: 1, inner loop: 1\n",
      "outer loop: 2, inner loop: 0\n",
      "outer loop: 2, inner loop: 1\n",
      "outer loop: 3, inner loop: 0\n",
      "outer loop: 3, inner loop: 1\n",
      "outer loop: 4, inner loop: 0\n",
      "outer loop: 4, inner loop: 1\n",
      "\n",
      "10\n",
      "21\n",
      "122\n",
      "213\n"
     ]
    }
   ],
   "source": [
    "# a loop which counts from 0 to 10\n",
    "# indentation level 0\n",
    "for index in range(0, 11):\n",
    "    # indentation level 1: therefore the following code gets executed as often\n",
    "    # as specified in the for loop´s condition.\n",
    "    print(index)\n",
    "# indentation level 0: this is the end of the for loop\n",
    "# code on this level will not be affected by the loop\n",
    "\n",
    "print()\n",
    "\n",
    "# after one loop there can be another loop\n",
    "for index in range(0, 5):\n",
    "    print(index)\n",
    "\n",
    "print()\n",
    "\n",
    "# loops can also be nested as often as you want. in this example 2x\n",
    "for i in range(0,5):\n",
    "    for j in range(0,2):\n",
    "        print(f'outer loop: {i}, inner loop: {j}')\n",
    "\n",
    "print()\n",
    "\n",
    "# not just range can be used to run a for loop\n",
    "list_of_numbers = [10, 21, 122, 213]\n",
    "for element in list_of_numbers:\n",
    "    print(element)\n",
    "# the for above iterates through the list and saves each number at a time in the variable\n",
    "# element until the for loop reaches the end of the loop"
   ]
  },
  {
   "cell_type": "markdown",
   "metadata": {},
   "source": [
    "### while-loops\n",
    "The second type of loop is the <span style=\"color:orange\">while</span>-loop. The difference is, that the condition now is a so called <span style=\"color:orange\">boolean value</span>. This type of value\n",
    "can eighter be <span style=\"color:orange\">True</span> or <span style=\"color:orange\">False</span>. As long as the condition is True, the while-loop will run.\n",
    "\n",
    "There are different ways to stop a while-loop."
   ]
  },
  {
   "cell_type": "code",
   "execution_count": 6,
   "metadata": {},
   "outputs": [
    {
     "name": "stdout",
     "output_type": "stream",
     "text": [
      "0: Hello World\n",
      "1: Hello World\n",
      "2: Hello World\n",
      "3: Hello World\n",
      "4: Hello World\n",
      "\n",
      "0: Hello World\n",
      "1: Hello World\n",
      "2: Hello World\n",
      "3: Hello World\n",
      "4: Hello World\n",
      "\n"
     ]
    }
   ],
   "source": [
    "# variable which contains a boolean value\n",
    "var1 = True\n",
    "\n",
    "# the code below would run forever since we never set the variable var1 to False\n",
    "\"\"\"\n",
    "while var1:\n",
    "    print('Hello World')\n",
    "\"\"\"\n",
    "\n",
    "# the code below prints Hello World 5x\n",
    "var1 = True\n",
    "# counter is needed to have a condition to set var1 to false\n",
    "counter = 0\n",
    "while var1:\n",
    "    print(f'{counter}: Hello World')\n",
    "    if counter == 4:\n",
    "        var1 = False\n",
    "    counter += 1\n",
    "\n",
    "print()\n",
    "\n",
    "# same example as above just without the extra variable var1\n",
    "counter = 0\n",
    "\n",
    "while counter < 5:\n",
    "    print(f'{counter}: Hello World')\n",
    "    counter += 1 # if this line is missing we would end up with an infinite loop\n",
    "\n",
    "print()\n",
    "\n",
    "# if the condition is False at the first encounter of the loop, it will be skipped\n",
    "var1 = False\n",
    "while var1:\n",
    "    print('This will not be printed')"
   ]
  },
  {
   "cell_type": "markdown",
   "metadata": {},
   "source": [
    "### Special statements for loops (Loop control statements)\n",
    "In most programming languages there exist loop control statements to tamper with the behaviour of loops. These are called <span style=\"color:orange\">continue</span>, <span style=\"color:orange\">break</span> and in python <span style=\"color:orange\">pass</span>. Important to remember is, that each control statement is just able to tamper with the loop directly above it. In a nested loop, if the control statement is in the second loop, it changes the behaviour of the second loop but not of the first one. (Example with break follows)"
   ]
  },
  {
   "cell_type": "markdown",
   "metadata": {},
   "source": [
    "#### continue\n",
    "continue can be used in every type of loop. If hit, the program skips everything after the continue and goes to the next iterable element in a loop and starts from the top again. Special attention must be paid for while-loops, since you have to change your conditional variable yourself."
   ]
  },
  {
   "cell_type": "code",
   "execution_count": 7,
   "metadata": {},
   "outputs": [
    {
     "name": "stdout",
     "output_type": "stream",
     "text": [
      "H\n",
      "e\n",
      "o\n",
      " \n",
      "W\n",
      "o\n",
      "r\n",
      "d\n"
     ]
    }
   ],
   "source": [
    "# loop iterates through 'Hello World' and ignores 'l'\n",
    "for letter in 'Hello World':\n",
    "    if (letter == 'l'):\n",
    "        continue # program jumps back to the top of the for-loop and goes to the next iterable\n",
    "    print(letter)"
   ]
  },
  {
   "cell_type": "code",
   "execution_count": 8,
   "metadata": {},
   "outputs": [
    {
     "name": "stdout",
     "output_type": "stream",
     "text": [
      "1\n",
      "3\n",
      "5\n",
      "7\n",
      "9\n",
      "11\n"
     ]
    }
   ],
   "source": [
    "# loop prints every odd number\n",
    "counter = 0\n",
    "while counter < 11:\n",
    "    # if the counter would not be increased before the if statement, we would hit an infinite loop, since counter will never be increased\n",
    "    counter += 1\n",
    "    if counter % 2 == 0:\n",
    "        continue\n",
    "    print(counter)"
   ]
  },
  {
   "cell_type": "markdown",
   "metadata": {},
   "source": [
    "#### break\n",
    "The break statement is the easiest to understand. It simply aborts a running loop if hit."
   ]
  },
  {
   "cell_type": "code",
   "execution_count": 9,
   "metadata": {},
   "outputs": [
    {
     "name": "stdout",
     "output_type": "stream",
     "text": [
      "0\n",
      "1\n",
      "2\n",
      "3\n",
      "4\n"
     ]
    }
   ],
   "source": [
    "# with break we can end an infinite loop\n",
    "# this loop will be aborted/stopped if the counter hits 5\n",
    "# output are the numbers from 0 to 4\n",
    "counter = 0\n",
    "while True:\n",
    "    if counter == 5:\n",
    "        break\n",
    "    print(counter)\n",
    "    counter += 1"
   ]
  },
  {
   "cell_type": "code",
   "execution_count": 10,
   "metadata": {},
   "outputs": [
    {
     "name": "stdout",
     "output_type": "stream",
     "text": [
      "outer loop: 0\n",
      "inner loop: 0\n",
      "inner loop: 1\n",
      "\n",
      "outer loop: 1\n",
      "inner loop: 0\n",
      "inner loop: 1\n",
      "\n",
      "outer loop: 2\n",
      "inner loop: 0\n",
      "inner loop: 1\n",
      "\n"
     ]
    }
   ],
   "source": [
    "# demonstration on nested loops\n",
    "counter1 = 0\n",
    "while True:\n",
    "    counter2 = 0\n",
    "    if counter1 == 3:\n",
    "        break\n",
    "\n",
    "    print(f'outer loop: {counter1}')\n",
    "    \n",
    "    while True:\n",
    "        if counter2 == 2:\n",
    "            break\n",
    "        print(f'inner loop: {counter2}')\n",
    "        counter2 += 1\n",
    "    print()\n",
    "    counter1 += 1"
   ]
  },
  {
   "cell_type": "markdown",
   "metadata": {},
   "source": [
    "#### pass\n",
    "The pass statement is also a fairly simple one. It does nothing and works as a placeholder for functions or even classes if they have to exist but do not have to do anything. Loops can also be augmented with the pass statement, the loops will run as normal without any actions. The for-loop runs until the condition is met and the while-loop will wait for an keybord interrupt (Ctrl+C). This does not work in this notebook so the while-statement is not listed in the examples.\n",
    "(functions and classes follow in the next sections)"
   ]
  },
  {
   "cell_type": "code",
   "execution_count": 11,
   "metadata": {},
   "outputs": [],
   "source": [
    "# without the pass everything below would result in an error\n",
    "class Person:\n",
    "    pass\n",
    "\n",
    "def get_money():\n",
    "    pass\n",
    "\n",
    "for index in range(0, 5):\n",
    "    pass"
   ]
  },
  {
   "cell_type": "markdown",
   "metadata": {},
   "source": [
    "## Operators\n",
    "\n",
    "Operators are for *operating* on variables. There are a few of them, which we should all memorize, because it will make life easier. Fortunately, we already know a few of them from elementary school. For example `+`. It adds two or more variables together. \n",
    "\n",
    "### Arithmetic operators\n",
    "\n",
    "#### `+`\n",
    "\n",
    "This adds two variables together. For example `3 + 5` results in `8`. Or `'Hello ' + 'there'` results in `Hello there`.\n",
    "\n",
    "#### `-`\n",
    "\n",
    "Subtraction. But cannot be used on strings. So: `'Gene' - 'ral'` results in an error.\n",
    "\n",
    "#### `*`\n",
    "\n",
    "Multiplication. Not much to talk about here\n",
    "\n",
    "#### `/`\n",
    "\n",
    "Division\n",
    "\n",
    "#### `%`\n",
    "\n",
    "Modulo like in math: $\\mod()$\n",
    "\n",
    "#### `//`\n",
    "\n",
    "Division, **but** the quotient is rounded to the next smallest whole number and is datatype `float`\n",
    "\n",
    "#### `**`\n",
    "\n",
    "Factorial. `3 ** 3 ` is the same as `3 * 3 * 3`\n",
    "\n",
    "\n",
    "<br />\n",
    "\n",
    "### Assignment operators\n",
    "\n",
    "#### `=`\n",
    "\n",
    "The equal sign is also an operator. We already saw it and it is for assigning values to variables\n",
    "\n",
    "#### `\\<insert operator here\\> =`\n",
    "\n",
    "There is a shorthand notation for operating and changing a variable which often comes in hand and it works with every operator above. For example:"
   ]
  },
  {
   "cell_type": "code",
   "execution_count": 13,
   "metadata": {},
   "outputs": [],
   "source": [
    "a = 1\n",
    "\n",
    "a += 3 # results in 4\n",
    "\n",
    "# this is the same as:\n",
    "a = a + 3 # results in 4\n",
    "\n",
    "# and this also works with all the other operators."
   ]
  },
  {
   "cell_type": "markdown",
   "metadata": {},
   "source": [
    "## Comparison Operators\n",
    "\n",
    "As the name says, these operators *compare* variables. \n",
    "\n",
    "### `==`\n",
    "\n",
    "Equal to. If two variables are the same, this results in a boolean with the corresponding truth value. "
   ]
  },
  {
   "cell_type": "code",
   "execution_count": 2,
   "metadata": {},
   "outputs": [
    {
     "data": {
      "text/plain": [
       "False"
      ]
     },
     "execution_count": 2,
     "metadata": {},
     "output_type": "execute_result"
    }
   ],
   "source": [
    "3 == 2"
   ]
  },
  {
   "cell_type": "markdown",
   "metadata": {},
   "source": [
    "### `!=`\n",
    "\n",
    "not equal to\n",
    "\n",
    "### `<`\n",
    "\n",
    "less than\n",
    "\n",
    "### `>`\n",
    "\n",
    "greater than\n",
    "\n",
    "### `<=`\n",
    "\n",
    "less or equal than\n",
    "\n",
    "### `>=`\n",
    "\n",
    "greater or equal than"
   ]
  },
  {
   "cell_type": "markdown",
   "metadata": {},
   "source": [
    "Strings can also be compared with less/greater (or equal). [For further reading](https://stackoverflow.com/questions/4806911/)"
   ]
  },
  {
   "cell_type": "code",
   "execution_count": 11,
   "metadata": {},
   "outputs": [
    {
     "data": {
      "text/plain": [
       "False"
      ]
     },
     "execution_count": 11,
     "metadata": {},
     "output_type": "execute_result"
    }
   ],
   "source": [
    "'a' > 'b'"
   ]
  },
  {
   "cell_type": "markdown",
   "metadata": {},
   "source": [
    "## Datatypes\n",
    "\n",
    "In Python, variables have a specified datatype. This datatype defines the operations that can be done with the variable. We have to tell the computer what kind of variable we are talking about, otherwise we would get unexpected results because we tried to compare a number with a word (or something like that). These are some (not all) datatypes:\n",
    "\n",
    "- Numbers\n",
    "    - boolean `bool`\n",
    "    - integer `int`\n",
    "    - real `float`\n",
    "- Sequences\n",
    "    - Immutable\n",
    "        - string `str`\n",
    "        - tuples `tuple`\n",
    "    - Mutable\n",
    "        - list `list`\n",
    "- Set types\n",
    "    - set `set`\n",
    "- Mappings\n",
    "    - dictionaries `dict`\n",
    "\n",
    "[python 3 standard type hierachy](https://upload.wikimedia.org/wikipedia/commons/1/10/Python_3._The_standard_type_hierarchy.png) for further reading.\n",
    "\n",
    "In Python, you can check the datatype of a variable with `type()`. So for example `type(\"Hi\")` results in `<class 'str'>` which means the word 'Hi' is a string. "
   ]
  },
  {
   "cell_type": "markdown",
   "metadata": {},
   "source": [
    "\n",
    "### Numbers\n",
    "\n",
    "#### Boolean\n",
    "\n",
    "The Boolean datatype (named after the mathematican [George Bool](https://en.wikipedia.org/wiki/George_Boole)) represents only two values: `True` and `False`. These values can be used in `if`-statements and are the result of comparison operators. Python actually saves these values as the numbers 1 and 0. Thats why `print(True + True)` results in `2`.\n",
    "\n",
    "\n",
    "#### Integer\n",
    "\n",
    "An integer is in programming the same as in math $\\Z$: a number that can be written without any fractional component. The maximum for this datatype is 2147483647, the minimum -2147483647. If you want to know why, click [here](https://www.youtube.com/watch?v=23cKyM-iFqk). Of course, we do not need to memorise this number, but knowing that the max value of an integer is around 2,140,000,000 can be pretty helpful. As [recent events](https://www.theverge.com/2022/1/2/22863950) have shown, it can break your program, if you excede this number.\n",
    "\n",
    "#### Float\n",
    "\n",
    "Using floats or floating point numbers, Python can save numbers with decimal places. A float gets saved using the following formula: $value = significant \\times base ^{exponent}$. This way, the actual number is only an approximation, but still is this a good way to represent numbers with many decimal places. Try adding `0.1 + 0.2` and take a look at the output. Then visit [this website](https://0.30000000000000004.com)"
   ]
  },
  {
   "cell_type": "markdown",
   "metadata": {},
   "source": [
    "## Functions\n",
    "\n",
    "Functions are one of the most important concepts in Python. If one functionality is needed more often then you should consider writing a function for it. Functions can\n",
    "be called as often as you want and returns a specified value.\n",
    "\n",
    "A function needs to be defined before used. With <span style=\"color:cyan\">def</span> <span style=\"color:orange\">functionname</span>() you can define a new function which can be called with the specified functionname. <span style=\"color:cyan\">def</span> indicates that a new function-definition is following."
   ]
  },
  {
   "cell_type": "code",
   "execution_count": 1,
   "metadata": {},
   "outputs": [
    {
     "name": "stdout",
     "output_type": "stream",
     "text": [
      "Hello World\n"
     ]
    }
   ],
   "source": [
    "# defining a function without parameters with the name fun\n",
    "def fun():\n",
    "    print('Hello World')\n",
    "\n",
    "# using the function by calling it\n",
    "fun()"
   ]
  },
  {
   "cell_type": "markdown",
   "metadata": {},
   "source": [
    "### Function-Parameters\n",
    "\n",
    "A function is a handy thing but pointless if it can`t react to some context. For this reason we can use parameters to tell our function whats happening outside of it and with which data a calculation should be executed. A function can have as many parameters as you want but in most cases less is more. Having twenty different parameters\n",
    "for one function is in most cases not rational.\n",
    "\n",
    "Parameternames are defined in the brackets of a function-definition as follows: <span style=\"color:cyan\">def</span> <span style=\"color:orange\">functionname</span>(param1, param2)\n",
    "\n",
    "This definition creates a function with two parameters named param1 and param2. Those parameters should have, as your functionname, descriptive names and can contain every datatype. If a function has parameters the function has to be called with those.\n",
    "\n",
    "The following sections show different concepts which can be used with functions. Those concepts can be combined. When in doubt try it by yourself and read if necessary the error message."
   ]
  },
  {
   "cell_type": "code",
   "execution_count": 3,
   "metadata": {},
   "outputs": [
    {
     "name": "stdout",
     "output_type": "stream",
     "text": [
      "first: 5\n",
      "second: 2\n",
      "first * second: 10\n"
     ]
    }
   ],
   "source": [
    "# defining a function with two parameters\n",
    "def foo(first, second):\n",
    "    print(f'first: {first}')\n",
    "    print(f'second: {second}')\n",
    "    print(f'first * second: {first * second}')\n",
    "\n",
    "foo(5, 2)"
   ]
  },
  {
   "cell_type": "markdown",
   "metadata": {},
   "source": [
    "### Default-Parameter\n",
    "\n",
    "The default parameter is handy if you want to make it possible for the user to use less parameters without the problem of unintended behaviour. In a function there can be as many default parameters as parameters itself. Important to remember is, that after the first default parameter every parameter has to be a default parameter!"
   ]
  },
  {
   "cell_type": "code",
   "execution_count": 7,
   "metadata": {},
   "outputs": [
    {
     "name": "stdout",
     "output_type": "stream",
     "text": [
      "1.0\n",
      "5.0\n",
      "5.0\n"
     ]
    }
   ],
   "source": [
    "# defining a function with two parameters. The second one is a default parameter.\n",
    "def div(first, second=1):\n",
    "    print(first / second)\n",
    "\n",
    "# now this function can be called eigther with two or one parameter\n",
    "div(5, 5)\n",
    "div(5, 1)\n",
    "div(5)"
   ]
  },
  {
   "cell_type": "code",
   "execution_count": 8,
   "metadata": {},
   "outputs": [
    {
     "ename": "SyntaxError",
     "evalue": "non-default argument follows default argument (Temp/ipykernel_39420/3925145317.py, line 2)",
     "output_type": "error",
     "traceback": [
      "\u001b[1;36m  File \u001b[1;32m\"C:\\Users\\Matthias\\AppData\\Local\\Temp/ipykernel_39420/3925145317.py\"\u001b[1;36m, line \u001b[1;32m2\u001b[0m\n\u001b[1;33m    def oof(first, second=0, third, fourth=-1):\u001b[0m\n\u001b[1;37m                                    ^\u001b[0m\n\u001b[1;31mSyntaxError\u001b[0m\u001b[1;31m:\u001b[0m non-default argument follows default argument\n"
     ]
    }
   ],
   "source": [
    "# an invalid definition of a function with default parameter\n",
    "# Try to fix it\n",
    "def oof(first, second=0, third, fourth=-1):\n",
    "    print('works')\n",
    "\n",
    "oof(1)"
   ]
  },
  {
   "cell_type": "markdown",
   "metadata": {},
   "source": [
    "### Arbitrary Arguments, *args\n",
    "\n",
    "This can and should be used if you dont know how many arguments should be passed to your function. The built in function os.path.join() uses most likely this concept (not varified). It simply takes an arbitrary long list of arguments and returns them in a list which can be accessed as usual. This type of argument is indicated by `*` before the actual parameter-name."
   ]
  },
  {
   "cell_type": "code",
   "execution_count": 9,
   "metadata": {},
   "outputs": [
    {
     "name": "stdout",
     "output_type": "stream",
     "text": [
      "Hello\n",
      "World\n",
      "!\n",
      "How\n",
      "are\n",
      "you\n",
      "?\n"
     ]
    }
   ],
   "source": [
    "# a function with arbitrary arguments\n",
    "\n",
    "def arb(*params):\n",
    "    for param in params:\n",
    "        print(param)\n",
    "\n",
    "arb('Hello', 'World', '!', 'How', 'are', 'you' , '?')"
   ]
  },
  {
   "cell_type": "markdown",
   "metadata": {},
   "source": [
    "### Arbitrary Keyword Arguments, **kwargs\n",
    "\n",
    "Those can be used inside your function like a dictionary. `**` indicates, that the following variable-name is specified for an arbitrary keyword argument."
   ]
  },
  {
   "cell_type": "code",
   "execution_count": 13,
   "metadata": {},
   "outputs": [
    {
     "name": "stdout",
     "output_type": "stream",
     "text": [
      "Apple\n",
      "Matthias\n",
      "\n",
      "Showing all entries by an dictionary-method:\n",
      "dict_items([('food', 'Apple'), ('weight', 0.8), ('name', 'Matthias')])\n"
     ]
    }
   ],
   "source": [
    "# a function with arbitrary keyword arguments\n",
    "def arbkw(**kw):\n",
    "    print(kw['food'])\n",
    "    print(kw['name'])\n",
    "\n",
    "    print()\n",
    "    print('Showing all entries by an dictionary-method:')\n",
    "    print(kw.items())\n",
    "\n",
    "arbkw(food='Apple', weight=0.8, name='Matthias')"
   ]
  },
  {
   "cell_type": "markdown",
   "metadata": {},
   "source": [
    "### return\n",
    "\n",
    "Now we know enough about function to come to the return values. Printing something with functions is nice but even nicer is to further use the result of a calculation\n",
    "after the function is called. This is possible by the keyword <span style=\"color:orange\">return</span>. After the line with the return is executed the function is finished with its work and the program leaves it and resumes after the function-call.\n",
    "\n",
    "In Python it is possible to return more than one value at the same time in one function. An example is following."
   ]
  },
  {
   "cell_type": "code",
   "execution_count": 15,
   "metadata": {},
   "outputs": [
    {
     "name": "stdout",
     "output_type": "stream",
     "text": [
      "a: 25\n",
      "a: 25, b: 50\n"
     ]
    }
   ],
   "source": [
    "# a function which returns the input value times five\n",
    "def return_demo(first):\n",
    "    return first * 5\n",
    "\n",
    "# the result of the function gets stored in variable a\n",
    "a = return_demo(5)\n",
    "print(f'a: {a}')\n",
    "\n",
    "# a function with multiple return values\n",
    "def return_demo2(first):\n",
    "    return first * 5, first * 10\n",
    "\n",
    "# the result of the function gets stored in the variables a and b\n",
    "# important is the order in which the return gets the parameters.\n",
    "# the first return value always gets passed to the first variable\n",
    "# as shown below\n",
    "a, b = return_demo2(5)\n",
    "print(f'a: {a}, b: {b}')"
   ]
  }
 ],
 "metadata": {
  "interpreter": {
   "hash": "ac59ebe37160ed0dfa835113d9b8498d9f09ceb179beaac4002f036b9467c963"
  },
  "kernelspec": {
   "display_name": "Python 3.9.7 64-bit",
   "name": "python3"
  },
  "language_info": {
   "codemirror_mode": {
    "name": "ipython",
    "version": 3
   },
   "file_extension": ".py",
   "mimetype": "text/x-python",
   "name": "python",
   "nbconvert_exporter": "python",
   "pygments_lexer": "ipython3",
   "version": "3.9.4"
  },
  "orig_nbformat": 4
 },
 "nbformat": 4,
 "nbformat_minor": 2
}
